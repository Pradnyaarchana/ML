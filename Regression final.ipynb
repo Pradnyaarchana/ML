{
 "cells": [
  {
   "cell_type": "code",
   "execution_count": 1,
   "id": "bda6316e",
   "metadata": {
    "colab": {
     "base_uri": "https://localhost:8080/",
     "height": 423
    },
    "id": "bda6316e",
    "outputId": "50b43f8b-bfd9-4ad2-fa5a-9afe07b425a0"
   },
   "outputs": [
    {
     "name": "stderr",
     "output_type": "stream",
     "text": [
      "/home/student/anaconda3/lib/python3.9/site-packages/scipy/__init__.py:146: UserWarning: A NumPy version >=1.16.5 and <1.23.0 is required for this version of SciPy (detected version 1.26.1\n",
      "  warnings.warn(f\"A NumPy version >={np_minversion} and <{np_maxversion}\"\n"
     ]
    },
    {
     "data": {
      "text/html": [
       "<div>\n",
       "<style scoped>\n",
       "    .dataframe tbody tr th:only-of-type {\n",
       "        vertical-align: middle;\n",
       "    }\n",
       "\n",
       "    .dataframe tbody tr th {\n",
       "        vertical-align: top;\n",
       "    }\n",
       "\n",
       "    .dataframe thead th {\n",
       "        text-align: right;\n",
       "    }\n",
       "</style>\n",
       "<table border=\"1\" class=\"dataframe\">\n",
       "  <thead>\n",
       "    <tr style=\"text-align: right;\">\n",
       "      <th></th>\n",
       "      <th>age</th>\n",
       "      <th>sex</th>\n",
       "      <th>bmi</th>\n",
       "      <th>children</th>\n",
       "      <th>smoker</th>\n",
       "      <th>region</th>\n",
       "      <th>charges</th>\n",
       "    </tr>\n",
       "  </thead>\n",
       "  <tbody>\n",
       "    <tr>\n",
       "      <th>0</th>\n",
       "      <td>19.0</td>\n",
       "      <td>female</td>\n",
       "      <td>27.900</td>\n",
       "      <td>0.0</td>\n",
       "      <td>yes</td>\n",
       "      <td>southwest</td>\n",
       "      <td>16884.92400</td>\n",
       "    </tr>\n",
       "    <tr>\n",
       "      <th>1</th>\n",
       "      <td>18.0</td>\n",
       "      <td>male</td>\n",
       "      <td>33.770</td>\n",
       "      <td>1.0</td>\n",
       "      <td>no</td>\n",
       "      <td>southeast</td>\n",
       "      <td>1725.55230</td>\n",
       "    </tr>\n",
       "    <tr>\n",
       "      <th>2</th>\n",
       "      <td>28.0</td>\n",
       "      <td>male</td>\n",
       "      <td>33.000</td>\n",
       "      <td>3.0</td>\n",
       "      <td>no</td>\n",
       "      <td>southeast</td>\n",
       "      <td>4449.46200</td>\n",
       "    </tr>\n",
       "    <tr>\n",
       "      <th>3</th>\n",
       "      <td>33.0</td>\n",
       "      <td>male</td>\n",
       "      <td>22.705</td>\n",
       "      <td>0.0</td>\n",
       "      <td>no</td>\n",
       "      <td>northwest</td>\n",
       "      <td>21984.47061</td>\n",
       "    </tr>\n",
       "    <tr>\n",
       "      <th>4</th>\n",
       "      <td>32.0</td>\n",
       "      <td>male</td>\n",
       "      <td>28.880</td>\n",
       "      <td>0.0</td>\n",
       "      <td>no</td>\n",
       "      <td>northwest</td>\n",
       "      <td>3866.85520</td>\n",
       "    </tr>\n",
       "    <tr>\n",
       "      <th>...</th>\n",
       "      <td>...</td>\n",
       "      <td>...</td>\n",
       "      <td>...</td>\n",
       "      <td>...</td>\n",
       "      <td>...</td>\n",
       "      <td>...</td>\n",
       "      <td>...</td>\n",
       "    </tr>\n",
       "    <tr>\n",
       "      <th>1333</th>\n",
       "      <td>50.0</td>\n",
       "      <td>male</td>\n",
       "      <td>30.970</td>\n",
       "      <td>3.0</td>\n",
       "      <td>no</td>\n",
       "      <td>northwest</td>\n",
       "      <td>10600.54830</td>\n",
       "    </tr>\n",
       "    <tr>\n",
       "      <th>1334</th>\n",
       "      <td>18.0</td>\n",
       "      <td>female</td>\n",
       "      <td>31.920</td>\n",
       "      <td>0.0</td>\n",
       "      <td>no</td>\n",
       "      <td>northeast</td>\n",
       "      <td>2205.98080</td>\n",
       "    </tr>\n",
       "    <tr>\n",
       "      <th>1335</th>\n",
       "      <td>18.0</td>\n",
       "      <td>female</td>\n",
       "      <td>36.850</td>\n",
       "      <td>0.0</td>\n",
       "      <td>no</td>\n",
       "      <td>southeast</td>\n",
       "      <td>1629.83350</td>\n",
       "    </tr>\n",
       "    <tr>\n",
       "      <th>1336</th>\n",
       "      <td>21.0</td>\n",
       "      <td>female</td>\n",
       "      <td>25.800</td>\n",
       "      <td>0.0</td>\n",
       "      <td>no</td>\n",
       "      <td>southwest</td>\n",
       "      <td>2007.94500</td>\n",
       "    </tr>\n",
       "    <tr>\n",
       "      <th>1337</th>\n",
       "      <td>61.0</td>\n",
       "      <td>female</td>\n",
       "      <td>29.070</td>\n",
       "      <td>0.0</td>\n",
       "      <td>yes</td>\n",
       "      <td>northwest</td>\n",
       "      <td>29141.36030</td>\n",
       "    </tr>\n",
       "  </tbody>\n",
       "</table>\n",
       "<p>1338 rows × 7 columns</p>\n",
       "</div>"
      ],
      "text/plain": [
       "       age     sex     bmi  children smoker     region      charges\n",
       "0     19.0  female  27.900       0.0    yes  southwest  16884.92400\n",
       "1     18.0    male  33.770       1.0     no  southeast   1725.55230\n",
       "2     28.0    male  33.000       3.0     no  southeast   4449.46200\n",
       "3     33.0    male  22.705       0.0     no  northwest  21984.47061\n",
       "4     32.0    male  28.880       0.0     no  northwest   3866.85520\n",
       "...    ...     ...     ...       ...    ...        ...          ...\n",
       "1333  50.0    male  30.970       3.0     no  northwest  10600.54830\n",
       "1334  18.0  female  31.920       0.0     no  northeast   2205.98080\n",
       "1335  18.0  female  36.850       0.0     no  southeast   1629.83350\n",
       "1336  21.0  female  25.800       0.0     no  southwest   2007.94500\n",
       "1337  61.0  female  29.070       0.0    yes  northwest  29141.36030\n",
       "\n",
       "[1338 rows x 7 columns]"
      ]
     },
     "execution_count": 1,
     "metadata": {},
     "output_type": "execute_result"
    }
   ],
   "source": [
    "import pandas as pd\n",
    "import numpy as np\n",
    "import matplotlib.pyplot as plt\n",
    "import seaborn as sns\n",
    "from sklearn.preprocessing import LabelEncoder\n",
    "from sklearn.preprocessing import OneHotEncoder\n",
    "import statsmodels.api as sm\n",
    "from sklearn.model_selection import train_test_split\n",
    "dt = pd.read_csv('insurance.csv')\n",
    "dt"
   ]
  },
  {
   "cell_type": "code",
   "execution_count": 2,
   "id": "1617b999",
   "metadata": {
    "colab": {
     "base_uri": "https://localhost:8080/"
    },
    "id": "1617b999",
    "outputId": "16fb8c7d-3127-47e6-fd8e-25a50b582d19"
   },
   "outputs": [
    {
     "data": {
      "text/plain": [
       "(1338, 7)"
      ]
     },
     "execution_count": 2,
     "metadata": {},
     "output_type": "execute_result"
    }
   ],
   "source": [
    "dt.shape"
   ]
  },
  {
   "cell_type": "code",
   "execution_count": 3,
   "id": "5a22a981",
   "metadata": {
    "colab": {
     "base_uri": "https://localhost:8080/",
     "height": 300
    },
    "id": "5a22a981",
    "outputId": "792f7184-72b3-4ca3-840b-cdf5879793d8"
   },
   "outputs": [
    {
     "data": {
      "text/html": [
       "<div>\n",
       "<style scoped>\n",
       "    .dataframe tbody tr th:only-of-type {\n",
       "        vertical-align: middle;\n",
       "    }\n",
       "\n",
       "    .dataframe tbody tr th {\n",
       "        vertical-align: top;\n",
       "    }\n",
       "\n",
       "    .dataframe thead th {\n",
       "        text-align: right;\n",
       "    }\n",
       "</style>\n",
       "<table border=\"1\" class=\"dataframe\">\n",
       "  <thead>\n",
       "    <tr style=\"text-align: right;\">\n",
       "      <th></th>\n",
       "      <th>age</th>\n",
       "      <th>bmi</th>\n",
       "      <th>children</th>\n",
       "      <th>charges</th>\n",
       "    </tr>\n",
       "  </thead>\n",
       "  <tbody>\n",
       "    <tr>\n",
       "      <th>count</th>\n",
       "      <td>1335.000000</td>\n",
       "      <td>1334.000000</td>\n",
       "      <td>1335.000000</td>\n",
       "      <td>1338.000000</td>\n",
       "    </tr>\n",
       "    <tr>\n",
       "      <th>mean</th>\n",
       "      <td>39.214232</td>\n",
       "      <td>30.665390</td>\n",
       "      <td>1.094382</td>\n",
       "      <td>13270.422265</td>\n",
       "    </tr>\n",
       "    <tr>\n",
       "      <th>std</th>\n",
       "      <td>14.051488</td>\n",
       "      <td>6.098268</td>\n",
       "      <td>1.206587</td>\n",
       "      <td>12110.011237</td>\n",
       "    </tr>\n",
       "    <tr>\n",
       "      <th>min</th>\n",
       "      <td>18.000000</td>\n",
       "      <td>15.960000</td>\n",
       "      <td>0.000000</td>\n",
       "      <td>1121.873900</td>\n",
       "    </tr>\n",
       "    <tr>\n",
       "      <th>25%</th>\n",
       "      <td>27.000000</td>\n",
       "      <td>26.296250</td>\n",
       "      <td>0.000000</td>\n",
       "      <td>4740.287150</td>\n",
       "    </tr>\n",
       "    <tr>\n",
       "      <th>50%</th>\n",
       "      <td>39.000000</td>\n",
       "      <td>30.400000</td>\n",
       "      <td>1.000000</td>\n",
       "      <td>9382.033000</td>\n",
       "    </tr>\n",
       "    <tr>\n",
       "      <th>75%</th>\n",
       "      <td>51.000000</td>\n",
       "      <td>34.693750</td>\n",
       "      <td>2.000000</td>\n",
       "      <td>16639.912515</td>\n",
       "    </tr>\n",
       "    <tr>\n",
       "      <th>max</th>\n",
       "      <td>64.000000</td>\n",
       "      <td>53.130000</td>\n",
       "      <td>5.000000</td>\n",
       "      <td>63770.428010</td>\n",
       "    </tr>\n",
       "  </tbody>\n",
       "</table>\n",
       "</div>"
      ],
      "text/plain": [
       "               age          bmi     children       charges\n",
       "count  1335.000000  1334.000000  1335.000000   1338.000000\n",
       "mean     39.214232    30.665390     1.094382  13270.422265\n",
       "std      14.051488     6.098268     1.206587  12110.011237\n",
       "min      18.000000    15.960000     0.000000   1121.873900\n",
       "25%      27.000000    26.296250     0.000000   4740.287150\n",
       "50%      39.000000    30.400000     1.000000   9382.033000\n",
       "75%      51.000000    34.693750     2.000000  16639.912515\n",
       "max      64.000000    53.130000     5.000000  63770.428010"
      ]
     },
     "execution_count": 3,
     "metadata": {},
     "output_type": "execute_result"
    }
   ],
   "source": [
    "dt.describe()"
   ]
  },
  {
   "cell_type": "code",
   "execution_count": 4,
   "id": "d822b224",
   "metadata": {
    "colab": {
     "base_uri": "https://localhost:8080/",
     "height": 303
    },
    "id": "d822b224",
    "outputId": "b970980f-e934-46c6-d3f8-dcda6e802914"
   },
   "outputs": [
    {
     "data": {
      "text/plain": [
       "age         float64\n",
       "sex          object\n",
       "bmi         float64\n",
       "children    float64\n",
       "smoker       object\n",
       "region       object\n",
       "charges     float64\n",
       "dtype: object"
      ]
     },
     "execution_count": 4,
     "metadata": {},
     "output_type": "execute_result"
    }
   ],
   "source": [
    "dt.dtypes"
   ]
  },
  {
   "cell_type": "code",
   "execution_count": 5,
   "id": "c591a1d3",
   "metadata": {
    "colab": {
     "base_uri": "https://localhost:8080/",
     "height": 303
    },
    "id": "c591a1d3",
    "outputId": "7b1965e6-c972-4659-9c3b-d179301e0233"
   },
   "outputs": [
    {
     "data": {
      "text/plain": [
       "age         False\n",
       "sex         False\n",
       "bmi         False\n",
       "children     True\n",
       "smoker      False\n",
       "region      False\n",
       "charges     False\n",
       "dtype: bool"
      ]
     },
     "execution_count": 5,
     "metadata": {},
     "output_type": "execute_result"
    }
   ],
   "source": [
    "dt.eq(0).any()"
   ]
  },
  {
   "cell_type": "code",
   "execution_count": 6,
   "id": "80dcebc2",
   "metadata": {
    "colab": {
     "base_uri": "https://localhost:8080/",
     "height": 303
    },
    "id": "80dcebc2",
    "outputId": "82274de0-3cb0-4c00-b210-b2d0f1d84d62"
   },
   "outputs": [
    {
     "data": {
      "text/plain": [
       "age         3\n",
       "sex         0\n",
       "bmi         4\n",
       "children    3\n",
       "smoker      0\n",
       "region      0\n",
       "charges     0\n",
       "dtype: int64"
      ]
     },
     "execution_count": 6,
     "metadata": {},
     "output_type": "execute_result"
    }
   ],
   "source": [
    "dt.isnull().sum()"
   ]
  },
  {
   "cell_type": "code",
   "execution_count": null,
   "id": "eFOitOqxV9NI",
   "metadata": {
    "id": "eFOitOqxV9NI"
   },
   "outputs": [],
   "source": []
  },
  {
   "cell_type": "code",
   "execution_count": 7,
   "id": "dcdf7820",
   "metadata": {
    "id": "3b9175b8"
   },
   "outputs": [],
   "source": [
    "#data replacements"
   ]
  },
  {
   "cell_type": "code",
   "execution_count": 8,
   "id": "fa57beb6",
   "metadata": {
    "id": "fa57beb6"
   },
   "outputs": [],
   "source": [
    "dt['age'].fillna(dt['age'].median(),inplace=True)\n",
    "dt['bmi'].fillna(dt['bmi'].mean(),inplace=True)\n",
    "dt['children'].fillna(dt['children'].mode()[0],inplace=True)"
   ]
  },
  {
   "cell_type": "code",
   "execution_count": 9,
   "id": "225433f6",
   "metadata": {
    "colab": {
     "base_uri": "https://localhost:8080/",
     "height": 303
    },
    "id": "225433f6",
    "outputId": "d480abb5-6d28-46e3-fd2a-f3302ad9b03e"
   },
   "outputs": [
    {
     "data": {
      "text/plain": [
       "age         0\n",
       "sex         0\n",
       "bmi         0\n",
       "children    0\n",
       "smoker      0\n",
       "region      0\n",
       "charges     0\n",
       "dtype: int64"
      ]
     },
     "execution_count": 9,
     "metadata": {},
     "output_type": "execute_result"
    }
   ],
   "source": [
    "dt.isnull().sum()"
   ]
  },
  {
   "cell_type": "code",
   "execution_count": 10,
   "id": "ee817a46",
   "metadata": {
    "colab": {
     "base_uri": "https://localhost:8080/",
     "height": 423
    },
    "id": "ee817a46",
    "outputId": "e5b787db-7da2-408f-f4be-39bfe6fa0d0e"
   },
   "outputs": [
    {
     "data": {
      "text/html": [
       "<div>\n",
       "<style scoped>\n",
       "    .dataframe tbody tr th:only-of-type {\n",
       "        vertical-align: middle;\n",
       "    }\n",
       "\n",
       "    .dataframe tbody tr th {\n",
       "        vertical-align: top;\n",
       "    }\n",
       "\n",
       "    .dataframe thead th {\n",
       "        text-align: right;\n",
       "    }\n",
       "</style>\n",
       "<table border=\"1\" class=\"dataframe\">\n",
       "  <thead>\n",
       "    <tr style=\"text-align: right;\">\n",
       "      <th></th>\n",
       "      <th>age</th>\n",
       "      <th>sex</th>\n",
       "      <th>bmi</th>\n",
       "      <th>children</th>\n",
       "      <th>smoker</th>\n",
       "      <th>region</th>\n",
       "      <th>charges</th>\n",
       "    </tr>\n",
       "  </thead>\n",
       "  <tbody>\n",
       "    <tr>\n",
       "      <th>0</th>\n",
       "      <td>19.0</td>\n",
       "      <td>female</td>\n",
       "      <td>27.900</td>\n",
       "      <td>0.0</td>\n",
       "      <td>yes</td>\n",
       "      <td>southwest</td>\n",
       "      <td>16884.92400</td>\n",
       "    </tr>\n",
       "    <tr>\n",
       "      <th>1</th>\n",
       "      <td>18.0</td>\n",
       "      <td>male</td>\n",
       "      <td>33.770</td>\n",
       "      <td>1.0</td>\n",
       "      <td>no</td>\n",
       "      <td>southeast</td>\n",
       "      <td>1725.55230</td>\n",
       "    </tr>\n",
       "    <tr>\n",
       "      <th>2</th>\n",
       "      <td>28.0</td>\n",
       "      <td>male</td>\n",
       "      <td>33.000</td>\n",
       "      <td>3.0</td>\n",
       "      <td>no</td>\n",
       "      <td>southeast</td>\n",
       "      <td>4449.46200</td>\n",
       "    </tr>\n",
       "    <tr>\n",
       "      <th>3</th>\n",
       "      <td>33.0</td>\n",
       "      <td>male</td>\n",
       "      <td>22.705</td>\n",
       "      <td>0.0</td>\n",
       "      <td>no</td>\n",
       "      <td>northwest</td>\n",
       "      <td>21984.47061</td>\n",
       "    </tr>\n",
       "    <tr>\n",
       "      <th>4</th>\n",
       "      <td>32.0</td>\n",
       "      <td>male</td>\n",
       "      <td>28.880</td>\n",
       "      <td>0.0</td>\n",
       "      <td>no</td>\n",
       "      <td>northwest</td>\n",
       "      <td>3866.85520</td>\n",
       "    </tr>\n",
       "  </tbody>\n",
       "</table>\n",
       "</div>"
      ],
      "text/plain": [
       "    age     sex     bmi  children smoker     region      charges\n",
       "0  19.0  female  27.900       0.0    yes  southwest  16884.92400\n",
       "1  18.0    male  33.770       1.0     no  southeast   1725.55230\n",
       "2  28.0    male  33.000       3.0     no  southeast   4449.46200\n",
       "3  33.0    male  22.705       0.0     no  northwest  21984.47061\n",
       "4  32.0    male  28.880       0.0     no  northwest   3866.85520"
      ]
     },
     "execution_count": 10,
     "metadata": {},
     "output_type": "execute_result"
    }
   ],
   "source": [
    "dt.head()"
   ]
  },
  {
   "cell_type": "code",
   "execution_count": 11,
   "id": "8cf4c19f",
   "metadata": {
    "colab": {
     "base_uri": "https://localhost:8080/",
     "height": 303
    },
    "id": "8cf4c19f",
    "outputId": "0074c8eb-aa24-40da-b6da-6d2d7bf75a87"
   },
   "outputs": [
    {
     "data": {
      "text/plain": [
       "age         float64\n",
       "sex          object\n",
       "bmi         float64\n",
       "children    float64\n",
       "smoker       object\n",
       "region       object\n",
       "charges     float64\n",
       "dtype: object"
      ]
     },
     "execution_count": 11,
     "metadata": {},
     "output_type": "execute_result"
    }
   ],
   "source": [
    "dt.dtypes"
   ]
  },
  {
   "cell_type": "code",
   "execution_count": 12,
   "id": "b6e452d6",
   "metadata": {
    "colab": {
     "base_uri": "https://localhost:8080/",
     "height": 272
    },
    "id": "b6e452d6",
    "outputId": "6893d603-4da4-426e-b989-8a2a49dcaf39"
   },
   "outputs": [
    {
     "data": {
      "text/plain": [
       "age            39.213752\n",
       "bmi            30.665390\n",
       "children        1.091928\n",
       "charges     13270.422265\n",
       "dtype: float64"
      ]
     },
     "execution_count": 12,
     "metadata": {},
     "output_type": "execute_result"
    }
   ],
   "source": [
    "dt.mean(numeric_only=True)"
   ]
  },
  {
   "cell_type": "code",
   "execution_count": 13,
   "id": "bcc19003",
   "metadata": {
    "colab": {
     "base_uri": "https://localhost:8080/",
     "height": 272
    },
    "id": "bcc19003",
    "outputId": "68e6bc8c-3598-4dcb-aecb-3e58129384fa"
   },
   "outputs": [
    {
     "data": {
      "text/plain": [
       "age           39.000\n",
       "bmi           30.400\n",
       "children       1.000\n",
       "charges     9382.033\n",
       "dtype: float64"
      ]
     },
     "execution_count": 13,
     "metadata": {},
     "output_type": "execute_result"
    }
   ],
   "source": [
    "dt.median(numeric_only=True)"
   ]
  },
  {
   "cell_type": "code",
   "execution_count": 14,
   "id": "4e27555b",
   "metadata": {
    "colab": {
     "base_uri": "https://localhost:8080/",
     "height": 80
    },
    "id": "4e27555b",
    "outputId": "9b766316-928a-4fd7-dca5-c84dbb736699"
   },
   "outputs": [
    {
     "data": {
      "text/html": [
       "<div>\n",
       "<style scoped>\n",
       "    .dataframe tbody tr th:only-of-type {\n",
       "        vertical-align: middle;\n",
       "    }\n",
       "\n",
       "    .dataframe tbody tr th {\n",
       "        vertical-align: top;\n",
       "    }\n",
       "\n",
       "    .dataframe thead th {\n",
       "        text-align: right;\n",
       "    }\n",
       "</style>\n",
       "<table border=\"1\" class=\"dataframe\">\n",
       "  <thead>\n",
       "    <tr style=\"text-align: right;\">\n",
       "      <th></th>\n",
       "      <th>age</th>\n",
       "      <th>bmi</th>\n",
       "      <th>children</th>\n",
       "      <th>charges</th>\n",
       "    </tr>\n",
       "  </thead>\n",
       "  <tbody>\n",
       "    <tr>\n",
       "      <th>0</th>\n",
       "      <td>18.0</td>\n",
       "      <td>32.3</td>\n",
       "      <td>0.0</td>\n",
       "      <td>1639.5631</td>\n",
       "    </tr>\n",
       "  </tbody>\n",
       "</table>\n",
       "</div>"
      ],
      "text/plain": [
       "    age   bmi  children    charges\n",
       "0  18.0  32.3       0.0  1639.5631"
      ]
     },
     "execution_count": 14,
     "metadata": {},
     "output_type": "execute_result"
    }
   ],
   "source": [
    "dt.mode(numeric_only=True)"
   ]
  },
  {
   "cell_type": "code",
   "execution_count": 15,
   "id": "2aeba522",
   "metadata": {
    "id": "2aeba522"
   },
   "outputs": [],
   "source": [
    "#Subsets"
   ]
  },
  {
   "cell_type": "code",
   "execution_count": 16,
   "id": "e2f36892",
   "metadata": {
    "colab": {
     "base_uri": "https://localhost:8080/",
     "height": 423
    },
    "id": "e2f36892",
    "outputId": "663d754c-af02-4a0f-eab9-12deaadc13b7"
   },
   "outputs": [
    {
     "data": {
      "text/html": [
       "<div>\n",
       "<style scoped>\n",
       "    .dataframe tbody tr th:only-of-type {\n",
       "        vertical-align: middle;\n",
       "    }\n",
       "\n",
       "    .dataframe tbody tr th {\n",
       "        vertical-align: top;\n",
       "    }\n",
       "\n",
       "    .dataframe thead th {\n",
       "        text-align: right;\n",
       "    }\n",
       "</style>\n",
       "<table border=\"1\" class=\"dataframe\">\n",
       "  <thead>\n",
       "    <tr style=\"text-align: right;\">\n",
       "      <th></th>\n",
       "      <th>age</th>\n",
       "      <th>sex</th>\n",
       "    </tr>\n",
       "  </thead>\n",
       "  <tbody>\n",
       "    <tr>\n",
       "      <th>100</th>\n",
       "      <td>41.0</td>\n",
       "      <td>female</td>\n",
       "    </tr>\n",
       "    <tr>\n",
       "      <th>101</th>\n",
       "      <td>30.0</td>\n",
       "      <td>male</td>\n",
       "    </tr>\n",
       "    <tr>\n",
       "      <th>102</th>\n",
       "      <td>18.0</td>\n",
       "      <td>female</td>\n",
       "    </tr>\n",
       "    <tr>\n",
       "      <th>103</th>\n",
       "      <td>61.0</td>\n",
       "      <td>female</td>\n",
       "    </tr>\n",
       "    <tr>\n",
       "      <th>104</th>\n",
       "      <td>34.0</td>\n",
       "      <td>female</td>\n",
       "    </tr>\n",
       "    <tr>\n",
       "      <th>...</th>\n",
       "      <td>...</td>\n",
       "      <td>...</td>\n",
       "    </tr>\n",
       "    <tr>\n",
       "      <th>195</th>\n",
       "      <td>19.0</td>\n",
       "      <td>male</td>\n",
       "    </tr>\n",
       "    <tr>\n",
       "      <th>196</th>\n",
       "      <td>39.0</td>\n",
       "      <td>female</td>\n",
       "    </tr>\n",
       "    <tr>\n",
       "      <th>197</th>\n",
       "      <td>45.0</td>\n",
       "      <td>female</td>\n",
       "    </tr>\n",
       "    <tr>\n",
       "      <th>198</th>\n",
       "      <td>51.0</td>\n",
       "      <td>female</td>\n",
       "    </tr>\n",
       "    <tr>\n",
       "      <th>199</th>\n",
       "      <td>64.0</td>\n",
       "      <td>female</td>\n",
       "    </tr>\n",
       "  </tbody>\n",
       "</table>\n",
       "<p>100 rows × 2 columns</p>\n",
       "</div>"
      ],
      "text/plain": [
       "      age     sex\n",
       "100  41.0  female\n",
       "101  30.0    male\n",
       "102  18.0  female\n",
       "103  61.0  female\n",
       "104  34.0  female\n",
       "..    ...     ...\n",
       "195  19.0    male\n",
       "196  39.0  female\n",
       "197  45.0  female\n",
       "198  51.0  female\n",
       "199  64.0  female\n",
       "\n",
       "[100 rows x 2 columns]"
      ]
     },
     "execution_count": 16,
     "metadata": {},
     "output_type": "execute_result"
    }
   ],
   "source": [
    "dt.iloc[100:200, 0:2]"
   ]
  },
  {
   "cell_type": "code",
   "execution_count": 17,
   "id": "25a272fa",
   "metadata": {
    "colab": {
     "base_uri": "https://localhost:8080/",
     "height": 423
    },
    "id": "25a272fa",
    "outputId": "d5040723-7fef-4870-831f-91e518d949b4"
   },
   "outputs": [
    {
     "data": {
      "text/html": [
       "<div>\n",
       "<style scoped>\n",
       "    .dataframe tbody tr th:only-of-type {\n",
       "        vertical-align: middle;\n",
       "    }\n",
       "\n",
       "    .dataframe tbody tr th {\n",
       "        vertical-align: top;\n",
       "    }\n",
       "\n",
       "    .dataframe thead th {\n",
       "        text-align: right;\n",
       "    }\n",
       "</style>\n",
       "<table border=\"1\" class=\"dataframe\">\n",
       "  <thead>\n",
       "    <tr style=\"text-align: right;\">\n",
       "      <th></th>\n",
       "      <th>age</th>\n",
       "      <th>charges</th>\n",
       "    </tr>\n",
       "  </thead>\n",
       "  <tbody>\n",
       "    <tr>\n",
       "      <th>0</th>\n",
       "      <td>19.0</td>\n",
       "      <td>16884.92400</td>\n",
       "    </tr>\n",
       "    <tr>\n",
       "      <th>1</th>\n",
       "      <td>18.0</td>\n",
       "      <td>1725.55230</td>\n",
       "    </tr>\n",
       "    <tr>\n",
       "      <th>2</th>\n",
       "      <td>28.0</td>\n",
       "      <td>4449.46200</td>\n",
       "    </tr>\n",
       "    <tr>\n",
       "      <th>3</th>\n",
       "      <td>33.0</td>\n",
       "      <td>21984.47061</td>\n",
       "    </tr>\n",
       "    <tr>\n",
       "      <th>4</th>\n",
       "      <td>32.0</td>\n",
       "      <td>3866.85520</td>\n",
       "    </tr>\n",
       "    <tr>\n",
       "      <th>...</th>\n",
       "      <td>...</td>\n",
       "      <td>...</td>\n",
       "    </tr>\n",
       "    <tr>\n",
       "      <th>95</th>\n",
       "      <td>28.0</td>\n",
       "      <td>3766.88380</td>\n",
       "    </tr>\n",
       "    <tr>\n",
       "      <th>96</th>\n",
       "      <td>54.0</td>\n",
       "      <td>12105.32000</td>\n",
       "    </tr>\n",
       "    <tr>\n",
       "      <th>97</th>\n",
       "      <td>55.0</td>\n",
       "      <td>10226.28420</td>\n",
       "    </tr>\n",
       "    <tr>\n",
       "      <th>98</th>\n",
       "      <td>56.0</td>\n",
       "      <td>22412.64850</td>\n",
       "    </tr>\n",
       "    <tr>\n",
       "      <th>99</th>\n",
       "      <td>38.0</td>\n",
       "      <td>15820.69900</td>\n",
       "    </tr>\n",
       "  </tbody>\n",
       "</table>\n",
       "<p>100 rows × 2 columns</p>\n",
       "</div>"
      ],
      "text/plain": [
       "     age      charges\n",
       "0   19.0  16884.92400\n",
       "1   18.0   1725.55230\n",
       "2   28.0   4449.46200\n",
       "3   33.0  21984.47061\n",
       "4   32.0   3866.85520\n",
       "..   ...          ...\n",
       "95  28.0   3766.88380\n",
       "96  54.0  12105.32000\n",
       "97  55.0  10226.28420\n",
       "98  56.0  22412.64850\n",
       "99  38.0  15820.69900\n",
       "\n",
       "[100 rows x 2 columns]"
      ]
     },
     "execution_count": 17,
     "metadata": {},
     "output_type": "execute_result"
    }
   ],
   "source": [
    "dt[['age','charges']].iloc[:100]"
   ]
  },
  {
   "cell_type": "code",
   "execution_count": 18,
   "id": "e0b482fb",
   "metadata": {
    "colab": {
     "base_uri": "https://localhost:8080/",
     "height": 896
    },
    "id": "e0b482fb",
    "outputId": "df98f6e3-0578-4841-b6b2-840163b46f52"
   },
   "outputs": [
    {
     "data": {
      "text/html": [
       "<div>\n",
       "<style scoped>\n",
       "    .dataframe tbody tr th:only-of-type {\n",
       "        vertical-align: middle;\n",
       "    }\n",
       "\n",
       "    .dataframe tbody tr th {\n",
       "        vertical-align: top;\n",
       "    }\n",
       "\n",
       "    .dataframe thead th {\n",
       "        text-align: right;\n",
       "    }\n",
       "</style>\n",
       "<table border=\"1\" class=\"dataframe\">\n",
       "  <thead>\n",
       "    <tr style=\"text-align: right;\">\n",
       "      <th></th>\n",
       "      <th>age</th>\n",
       "      <th>sex</th>\n",
       "      <th>bmi</th>\n",
       "      <th>children</th>\n",
       "      <th>smoker</th>\n",
       "      <th>region</th>\n",
       "      <th>charges</th>\n",
       "    </tr>\n",
       "  </thead>\n",
       "  <tbody>\n",
       "    <tr>\n",
       "      <th>76</th>\n",
       "      <td>29.0</td>\n",
       "      <td>female</td>\n",
       "      <td>29.590</td>\n",
       "      <td>1.0</td>\n",
       "      <td>no</td>\n",
       "      <td>southeast</td>\n",
       "      <td>3947.41310</td>\n",
       "    </tr>\n",
       "    <tr>\n",
       "      <th>108</th>\n",
       "      <td>29.0</td>\n",
       "      <td>male</td>\n",
       "      <td>27.940</td>\n",
       "      <td>0.0</td>\n",
       "      <td>no</td>\n",
       "      <td>southeast</td>\n",
       "      <td>2867.11960</td>\n",
       "    </tr>\n",
       "    <tr>\n",
       "      <th>117</th>\n",
       "      <td>29.0</td>\n",
       "      <td>female</td>\n",
       "      <td>27.940</td>\n",
       "      <td>1.0</td>\n",
       "      <td>yes</td>\n",
       "      <td>southeast</td>\n",
       "      <td>19107.77960</td>\n",
       "    </tr>\n",
       "    <tr>\n",
       "      <th>143</th>\n",
       "      <td>29.0</td>\n",
       "      <td>male</td>\n",
       "      <td>29.735</td>\n",
       "      <td>2.0</td>\n",
       "      <td>no</td>\n",
       "      <td>northwest</td>\n",
       "      <td>18157.87600</td>\n",
       "    </tr>\n",
       "    <tr>\n",
       "      <th>145</th>\n",
       "      <td>29.0</td>\n",
       "      <td>female</td>\n",
       "      <td>38.830</td>\n",
       "      <td>3.0</td>\n",
       "      <td>no</td>\n",
       "      <td>southeast</td>\n",
       "      <td>5138.25670</td>\n",
       "    </tr>\n",
       "    <tr>\n",
       "      <th>189</th>\n",
       "      <td>29.0</td>\n",
       "      <td>female</td>\n",
       "      <td>32.110</td>\n",
       "      <td>2.0</td>\n",
       "      <td>no</td>\n",
       "      <td>northwest</td>\n",
       "      <td>4922.91590</td>\n",
       "    </tr>\n",
       "    <tr>\n",
       "      <th>249</th>\n",
       "      <td>29.0</td>\n",
       "      <td>male</td>\n",
       "      <td>28.975</td>\n",
       "      <td>1.0</td>\n",
       "      <td>no</td>\n",
       "      <td>northeast</td>\n",
       "      <td>4040.55825</td>\n",
       "    </tr>\n",
       "    <tr>\n",
       "      <th>291</th>\n",
       "      <td>29.0</td>\n",
       "      <td>male</td>\n",
       "      <td>29.640</td>\n",
       "      <td>1.0</td>\n",
       "      <td>no</td>\n",
       "      <td>northeast</td>\n",
       "      <td>20277.80751</td>\n",
       "    </tr>\n",
       "    <tr>\n",
       "      <th>305</th>\n",
       "      <td>29.0</td>\n",
       "      <td>male</td>\n",
       "      <td>33.345</td>\n",
       "      <td>2.0</td>\n",
       "      <td>no</td>\n",
       "      <td>northwest</td>\n",
       "      <td>19442.35350</td>\n",
       "    </tr>\n",
       "    <tr>\n",
       "      <th>324</th>\n",
       "      <td>29.0</td>\n",
       "      <td>male</td>\n",
       "      <td>27.200</td>\n",
       "      <td>0.0</td>\n",
       "      <td>no</td>\n",
       "      <td>southwest</td>\n",
       "      <td>2866.09100</td>\n",
       "    </tr>\n",
       "    <tr>\n",
       "      <th>431</th>\n",
       "      <td>29.0</td>\n",
       "      <td>female</td>\n",
       "      <td>20.235</td>\n",
       "      <td>2.0</td>\n",
       "      <td>no</td>\n",
       "      <td>northwest</td>\n",
       "      <td>4906.40965</td>\n",
       "    </tr>\n",
       "    <tr>\n",
       "      <th>500</th>\n",
       "      <td>29.0</td>\n",
       "      <td>male</td>\n",
       "      <td>34.400</td>\n",
       "      <td>0.0</td>\n",
       "      <td>yes</td>\n",
       "      <td>southwest</td>\n",
       "      <td>36197.69900</td>\n",
       "    </tr>\n",
       "    <tr>\n",
       "      <th>625</th>\n",
       "      <td>29.0</td>\n",
       "      <td>female</td>\n",
       "      <td>26.030</td>\n",
       "      <td>0.0</td>\n",
       "      <td>no</td>\n",
       "      <td>northwest</td>\n",
       "      <td>3736.46470</td>\n",
       "    </tr>\n",
       "    <tr>\n",
       "      <th>632</th>\n",
       "      <td>29.0</td>\n",
       "      <td>female</td>\n",
       "      <td>35.530</td>\n",
       "      <td>0.0</td>\n",
       "      <td>no</td>\n",
       "      <td>southeast</td>\n",
       "      <td>3366.66970</td>\n",
       "    </tr>\n",
       "    <tr>\n",
       "      <th>671</th>\n",
       "      <td>29.0</td>\n",
       "      <td>female</td>\n",
       "      <td>31.160</td>\n",
       "      <td>0.0</td>\n",
       "      <td>no</td>\n",
       "      <td>northeast</td>\n",
       "      <td>3943.59540</td>\n",
       "    </tr>\n",
       "    <tr>\n",
       "      <th>727</th>\n",
       "      <td>29.0</td>\n",
       "      <td>female</td>\n",
       "      <td>21.755</td>\n",
       "      <td>1.0</td>\n",
       "      <td>yes</td>\n",
       "      <td>northeast</td>\n",
       "      <td>16657.71745</td>\n",
       "    </tr>\n",
       "    <tr>\n",
       "      <th>739</th>\n",
       "      <td>29.0</td>\n",
       "      <td>male</td>\n",
       "      <td>35.500</td>\n",
       "      <td>2.0</td>\n",
       "      <td>yes</td>\n",
       "      <td>southwest</td>\n",
       "      <td>44585.45587</td>\n",
       "    </tr>\n",
       "    <tr>\n",
       "      <th>788</th>\n",
       "      <td>29.0</td>\n",
       "      <td>male</td>\n",
       "      <td>22.515</td>\n",
       "      <td>3.0</td>\n",
       "      <td>no</td>\n",
       "      <td>northeast</td>\n",
       "      <td>5209.57885</td>\n",
       "    </tr>\n",
       "    <tr>\n",
       "      <th>961</th>\n",
       "      <td>29.0</td>\n",
       "      <td>female</td>\n",
       "      <td>25.900</td>\n",
       "      <td>0.0</td>\n",
       "      <td>no</td>\n",
       "      <td>southwest</td>\n",
       "      <td>3353.28400</td>\n",
       "    </tr>\n",
       "    <tr>\n",
       "      <th>975</th>\n",
       "      <td>29.0</td>\n",
       "      <td>male</td>\n",
       "      <td>22.895</td>\n",
       "      <td>0.0</td>\n",
       "      <td>yes</td>\n",
       "      <td>northeast</td>\n",
       "      <td>16138.76205</td>\n",
       "    </tr>\n",
       "    <tr>\n",
       "      <th>1005</th>\n",
       "      <td>29.0</td>\n",
       "      <td>male</td>\n",
       "      <td>31.730</td>\n",
       "      <td>2.0</td>\n",
       "      <td>no</td>\n",
       "      <td>northwest</td>\n",
       "      <td>4433.38770</td>\n",
       "    </tr>\n",
       "    <tr>\n",
       "      <th>1064</th>\n",
       "      <td>29.0</td>\n",
       "      <td>female</td>\n",
       "      <td>25.600</td>\n",
       "      <td>4.0</td>\n",
       "      <td>no</td>\n",
       "      <td>southwest</td>\n",
       "      <td>5708.86700</td>\n",
       "    </tr>\n",
       "    <tr>\n",
       "      <th>1102</th>\n",
       "      <td>29.0</td>\n",
       "      <td>male</td>\n",
       "      <td>38.940</td>\n",
       "      <td>1.0</td>\n",
       "      <td>no</td>\n",
       "      <td>southeast</td>\n",
       "      <td>3471.40960</td>\n",
       "    </tr>\n",
       "    <tr>\n",
       "      <th>1167</th>\n",
       "      <td>29.0</td>\n",
       "      <td>female</td>\n",
       "      <td>24.600</td>\n",
       "      <td>2.0</td>\n",
       "      <td>no</td>\n",
       "      <td>southwest</td>\n",
       "      <td>4529.47700</td>\n",
       "    </tr>\n",
       "    <tr>\n",
       "      <th>1174</th>\n",
       "      <td>29.0</td>\n",
       "      <td>male</td>\n",
       "      <td>32.110</td>\n",
       "      <td>2.0</td>\n",
       "      <td>no</td>\n",
       "      <td>northwest</td>\n",
       "      <td>4433.91590</td>\n",
       "    </tr>\n",
       "    <tr>\n",
       "      <th>1217</th>\n",
       "      <td>29.0</td>\n",
       "      <td>male</td>\n",
       "      <td>37.290</td>\n",
       "      <td>2.0</td>\n",
       "      <td>no</td>\n",
       "      <td>southeast</td>\n",
       "      <td>4058.11610</td>\n",
       "    </tr>\n",
       "    <tr>\n",
       "      <th>1306</th>\n",
       "      <td>29.0</td>\n",
       "      <td>female</td>\n",
       "      <td>21.850</td>\n",
       "      <td>0.0</td>\n",
       "      <td>yes</td>\n",
       "      <td>northeast</td>\n",
       "      <td>16115.30450</td>\n",
       "    </tr>\n",
       "  </tbody>\n",
       "</table>\n",
       "</div>"
      ],
      "text/plain": [
       "       age     sex     bmi  children smoker     region      charges\n",
       "76    29.0  female  29.590       1.0     no  southeast   3947.41310\n",
       "108   29.0    male  27.940       0.0     no  southeast   2867.11960\n",
       "117   29.0  female  27.940       1.0    yes  southeast  19107.77960\n",
       "143   29.0    male  29.735       2.0     no  northwest  18157.87600\n",
       "145   29.0  female  38.830       3.0     no  southeast   5138.25670\n",
       "189   29.0  female  32.110       2.0     no  northwest   4922.91590\n",
       "249   29.0    male  28.975       1.0     no  northeast   4040.55825\n",
       "291   29.0    male  29.640       1.0     no  northeast  20277.80751\n",
       "305   29.0    male  33.345       2.0     no  northwest  19442.35350\n",
       "324   29.0    male  27.200       0.0     no  southwest   2866.09100\n",
       "431   29.0  female  20.235       2.0     no  northwest   4906.40965\n",
       "500   29.0    male  34.400       0.0    yes  southwest  36197.69900\n",
       "625   29.0  female  26.030       0.0     no  northwest   3736.46470\n",
       "632   29.0  female  35.530       0.0     no  southeast   3366.66970\n",
       "671   29.0  female  31.160       0.0     no  northeast   3943.59540\n",
       "727   29.0  female  21.755       1.0    yes  northeast  16657.71745\n",
       "739   29.0    male  35.500       2.0    yes  southwest  44585.45587\n",
       "788   29.0    male  22.515       3.0     no  northeast   5209.57885\n",
       "961   29.0  female  25.900       0.0     no  southwest   3353.28400\n",
       "975   29.0    male  22.895       0.0    yes  northeast  16138.76205\n",
       "1005  29.0    male  31.730       2.0     no  northwest   4433.38770\n",
       "1064  29.0  female  25.600       4.0     no  southwest   5708.86700\n",
       "1102  29.0    male  38.940       1.0     no  southeast   3471.40960\n",
       "1167  29.0  female  24.600       2.0     no  southwest   4529.47700\n",
       "1174  29.0    male  32.110       2.0     no  northwest   4433.91590\n",
       "1217  29.0    male  37.290       2.0     no  southeast   4058.11610\n",
       "1306  29.0  female  21.850       0.0    yes  northeast  16115.30450"
      ]
     },
     "execution_count": 18,
     "metadata": {},
     "output_type": "execute_result"
    }
   ],
   "source": [
    "dt[dt['age']==29]"
   ]
  },
  {
   "cell_type": "code",
   "execution_count": 19,
   "id": "563534f7",
   "metadata": {
    "colab": {
     "base_uri": "https://localhost:8080/",
     "height": 53
    },
    "id": "563534f7",
    "outputId": "2c0c59b7-a2f3-4369-ec68-df8529aa1cdb"
   },
   "outputs": [
    {
     "data": {
      "text/html": [
       "<div>\n",
       "<style scoped>\n",
       "    .dataframe tbody tr th:only-of-type {\n",
       "        vertical-align: middle;\n",
       "    }\n",
       "\n",
       "    .dataframe tbody tr th {\n",
       "        vertical-align: top;\n",
       "    }\n",
       "\n",
       "    .dataframe thead th {\n",
       "        text-align: right;\n",
       "    }\n",
       "</style>\n",
       "<table border=\"1\" class=\"dataframe\">\n",
       "  <thead>\n",
       "    <tr style=\"text-align: right;\">\n",
       "      <th></th>\n",
       "      <th>age</th>\n",
       "      <th>sex</th>\n",
       "      <th>bmi</th>\n",
       "      <th>children</th>\n",
       "      <th>smoker</th>\n",
       "      <th>region</th>\n",
       "      <th>charges</th>\n",
       "    </tr>\n",
       "  </thead>\n",
       "  <tbody>\n",
       "    <tr>\n",
       "      <th>0</th>\n",
       "      <td>19.0</td>\n",
       "      <td>female</td>\n",
       "      <td>27.900</td>\n",
       "      <td>0.0</td>\n",
       "      <td>yes</td>\n",
       "      <td>southwest</td>\n",
       "      <td>16884.92400</td>\n",
       "    </tr>\n",
       "    <tr>\n",
       "      <th>31</th>\n",
       "      <td>18.0</td>\n",
       "      <td>female</td>\n",
       "      <td>26.315</td>\n",
       "      <td>0.0</td>\n",
       "      <td>no</td>\n",
       "      <td>northeast</td>\n",
       "      <td>2198.18985</td>\n",
       "    </tr>\n",
       "    <tr>\n",
       "      <th>32</th>\n",
       "      <td>19.0</td>\n",
       "      <td>female</td>\n",
       "      <td>28.600</td>\n",
       "      <td>5.0</td>\n",
       "      <td>no</td>\n",
       "      <td>southwest</td>\n",
       "      <td>4687.79700</td>\n",
       "    </tr>\n",
       "    <tr>\n",
       "      <th>46</th>\n",
       "      <td>18.0</td>\n",
       "      <td>female</td>\n",
       "      <td>38.665</td>\n",
       "      <td>2.0</td>\n",
       "      <td>no</td>\n",
       "      <td>northeast</td>\n",
       "      <td>3393.35635</td>\n",
       "    </tr>\n",
       "    <tr>\n",
       "      <th>50</th>\n",
       "      <td>18.0</td>\n",
       "      <td>female</td>\n",
       "      <td>35.625</td>\n",
       "      <td>0.0</td>\n",
       "      <td>no</td>\n",
       "      <td>northeast</td>\n",
       "      <td>2211.13075</td>\n",
       "    </tr>\n",
       "    <tr>\n",
       "      <th>64</th>\n",
       "      <td>20.0</td>\n",
       "      <td>female</td>\n",
       "      <td>22.420</td>\n",
       "      <td>0.0</td>\n",
       "      <td>yes</td>\n",
       "      <td>northwest</td>\n",
       "      <td>14711.74380</td>\n",
       "    </tr>\n",
       "    <tr>\n",
       "      <th>65</th>\n",
       "      <td>19.0</td>\n",
       "      <td>female</td>\n",
       "      <td>28.900</td>\n",
       "      <td>0.0</td>\n",
       "      <td>no</td>\n",
       "      <td>southwest</td>\n",
       "      <td>1743.21400</td>\n",
       "    </tr>\n",
       "    <tr>\n",
       "      <th>102</th>\n",
       "      <td>18.0</td>\n",
       "      <td>female</td>\n",
       "      <td>30.115</td>\n",
       "      <td>0.0</td>\n",
       "      <td>no</td>\n",
       "      <td>northeast</td>\n",
       "      <td>21344.84670</td>\n",
       "    </tr>\n",
       "    <tr>\n",
       "      <th>106</th>\n",
       "      <td>19.0</td>\n",
       "      <td>female</td>\n",
       "      <td>28.400</td>\n",
       "      <td>1.0</td>\n",
       "      <td>no</td>\n",
       "      <td>southwest</td>\n",
       "      <td>2331.51900</td>\n",
       "    </tr>\n",
       "    <tr>\n",
       "      <th>122</th>\n",
       "      <td>20.0</td>\n",
       "      <td>female</td>\n",
       "      <td>28.975</td>\n",
       "      <td>0.0</td>\n",
       "      <td>no</td>\n",
       "      <td>northwest</td>\n",
       "      <td>2257.47525</td>\n",
       "    </tr>\n",
       "  </tbody>\n",
       "</table>\n",
       "</div>"
      ],
      "text/plain": [
       "      age     sex     bmi  children smoker     region      charges\n",
       "0    19.0  female  27.900       0.0    yes  southwest  16884.92400\n",
       "31   18.0  female  26.315       0.0     no  northeast   2198.18985\n",
       "32   19.0  female  28.600       5.0     no  southwest   4687.79700\n",
       "46   18.0  female  38.665       2.0     no  northeast   3393.35635\n",
       "50   18.0  female  35.625       0.0     no  northeast   2211.13075\n",
       "64   20.0  female  22.420       0.0    yes  northwest  14711.74380\n",
       "65   19.0  female  28.900       0.0     no  southwest   1743.21400\n",
       "102  18.0  female  30.115       0.0     no  northeast  21344.84670\n",
       "106  19.0  female  28.400       1.0     no  southwest   2331.51900\n",
       "122  20.0  female  28.975       0.0     no  northwest   2257.47525"
      ]
     },
     "execution_count": 19,
     "metadata": {},
     "output_type": "execute_result"
    }
   ],
   "source": [
    "dt[(dt['sex']=='female')&(dt['age']<=20)].iloc[:10]"
   ]
  },
  {
   "cell_type": "code",
   "execution_count": 20,
   "id": "fbee2a64",
   "metadata": {
    "id": "fbee2a64"
   },
   "outputs": [],
   "source": [
    "#plots"
   ]
  },
  {
   "cell_type": "code",
   "execution_count": 21,
   "id": "cd2bbcb5",
   "metadata": {
    "colab": {
     "base_uri": "https://localhost:8080/",
     "height": 891
    },
    "id": "cd2bbcb5",
    "outputId": "c08a7ed4-4f06-447a-8b13-149621ca08b9"
   },
   "outputs": [
    {
     "data": {
      "text/plain": [
       "<seaborn.axisgrid.PairGrid at 0x7fca8dfa9400>"
      ]
     },
     "execution_count": 21,
     "metadata": {},
     "output_type": "execute_result"
    },
    {
     "data": {
      "image/png": "[encoded data removed]",
      "text/plain": [
       "<Figure size 720x720 with 20 Axes>"
      ]
     },
     "metadata": {
      "needs_background": "light"
     },
     "output_type": "display_data"
    }
   ],
   "source": [
    "sns.pairplot(dt)"
   ]
  },
  {
   "cell_type": "code",
   "execution_count": 22,
   "id": "2ff69947",
   "metadata": {
    "id": "2ff69947"
   },
   "outputs": [],
   "source": [
    "xdt=dt[(dt['age']>35)&(dt['age']<45)]"
   ]
  },
  {
   "cell_type": "code",
   "execution_count": 23,
   "id": "82efdb2f",
   "metadata": {
    "colab": {
     "base_uri": "https://localhost:8080/",
     "height": 556
    },
    "id": "82efdb2f",
    "outputId": "fb0234d3-69ee-4cd3-bca0-19ac0045731e"
   },
   "outputs": [
    {
     "data": {
      "image/png": "[encoded data removed]",
      "text/plain": [
       "<Figure size 432x288 with 1 Axes>"
      ]
     },
     "metadata": {
      "needs_background": "light"
     },
     "output_type": "display_data"
    }
   ],
   "source": [
    "sns.barplot(data=dt, x=xdt['age'], y=dt['charges'],palette='flare')\n",
    "plt.show()"
   ]
  },
  {
   "cell_type": "code",
   "execution_count": 24,
   "id": "93583424",
   "metadata": {
    "colab": {
     "base_uri": "https://localhost:8080/",
     "height": 466
    },
    "id": "93583424",
    "outputId": "019449b6-6025-4522-ef83-489ec78de0fd"
   },
   "outputs": [
    {
     "data": {
      "text/plain": [
       "<AxesSubplot:xlabel='age', ylabel='charges'>"
      ]
     },
     "execution_count": 24,
     "metadata": {},
     "output_type": "execute_result"
    },
    {
     "data": {
      "image/png": "[encoded data removed]",
      "text/plain": [
       "<Figure size 432x288 with 1 Axes>"
      ]
     },
     "metadata": {
      "needs_background": "light"
     },
     "output_type": "display_data"
    }
   ],
   "source": [
    "sns.scatterplot(data=dt, x=xdt['age'], y=dt['charges'],palette='muted',hue=dt['smoker'])"
   ]
  },
  {
   "cell_type": "code",
   "execution_count": 25,
   "id": "8Q2x5AK8xzWB",
   "metadata": {
    "colab": {
     "base_uri": "https://localhost:8080/",
     "height": 466
    },
    "id": "8Q2x5AK8xzWB",
    "outputId": "2d090885-868c-46d7-fd44-39ecc3ed16a8"
   },
   "outputs": [],
   "source": [
    "#sns.boxplot(dt,x=dt['charges'])"
   ]
  },
  {
   "cell_type": "code",
   "execution_count": 26,
   "id": "ddde1696",
   "metadata": {
    "id": "ddde1696"
   },
   "outputs": [],
   "source": [
    "#Splitting training and testing data"
   ]
  },
  {
   "cell_type": "code",
   "execution_count": 27,
   "id": "1c3af51f",
   "metadata": {
    "id": "1c3af51f"
   },
   "outputs": [],
   "source": [
    "from sklearn import preprocessing, svm\n",
    "from sklearn.linear_model import LinearRegression"
   ]
  },
  {
   "cell_type": "code",
   "execution_count": 28,
   "id": "Z-G7PSSjDIYU",
   "metadata": {
    "colab": {
     "base_uri": "https://localhost:8080/"
    },
    "id": "Z-G7PSSjDIYU",
    "outputId": "e083a990-5b08-4d5a-eb58-d4a6545b8821"
   },
   "outputs": [
    {
     "data": {
      "text/plain": [
       "(1338,)"
      ]
     },
     "execution_count": 28,
     "metadata": {},
     "output_type": "execute_result"
    }
   ],
   "source": [
    "np.array(dt['age']).shape"
   ]
  },
  {
   "cell_type": "code",
   "execution_count": 29,
   "id": "dXcvxJbgDM5M",
   "metadata": {
    "colab": {
     "base_uri": "https://localhost:8080/"
    },
    "id": "dXcvxJbgDM5M",
    "outputId": "e1d87a59-1090-4915-b6ae-937bd54036f7"
   },
   "outputs": [
    {
     "data": {
      "text/plain": [
       "(1338, 1)"
      ]
     },
     "execution_count": 29,
     "metadata": {},
     "output_type": "execute_result"
    }
   ],
   "source": [
    "np.array(dt['age']).reshape(-1, 1).shape"
   ]
  },
  {
   "cell_type": "code",
   "execution_count": 30,
   "id": "b6650c95",
   "metadata": {
    "id": "b6650c95"
   },
   "outputs": [],
   "source": [
    "x = np.array(dt['age']).reshape(-1,1)\n",
    "y = np.array(dt['charges']).reshape(-1,1)\n",
    "x_tr, x_te, y_tr, y_te = train_test_split(x,y, test_size = 0.25)"
   ]
  },
  {
   "cell_type": "code",
   "execution_count": 31,
   "id": "6492262f",
   "metadata": {
    "id": "6492262f"
   },
   "outputs": [],
   "source": [
    "regr = LinearRegression()"
   ]
  },
  {
   "cell_type": "code",
   "execution_count": 32,
   "id": "8e01323e",
   "metadata": {
    "colab": {
     "base_uri": "https://localhost:8080/",
     "height": 74
    },
    "id": "8e01323e",
    "outputId": "c0b22c7c-1bf6-4f3f-c281-43edb81e9394"
   },
   "outputs": [
    {
     "data": {
      "text/plain": [
       "LinearRegression()"
      ]
     },
     "execution_count": 32,
     "metadata": {},
     "output_type": "execute_result"
    }
   ],
   "source": [
    "regr.fit(x_tr, y_tr)"
   ]
  },
  {
   "cell_type": "code",
   "execution_count": 33,
   "id": "f3928758",
   "metadata": {
    "id": "f3928758"
   },
   "outputs": [],
   "source": [
    "y_predict=regr.predict(x_te)\n"
   ]
  },
  {
   "cell_type": "code",
   "execution_count": 34,
   "id": "t71NwPam_RKx",
   "metadata": {
    "colab": {
     "base_uri": "https://localhost:8080/",
     "height": 430
    },
    "id": "t71NwPam_RKx",
    "outputId": "dfa4520b-446d-4933-f79c-549ea42e754b"
   },
   "outputs": [
    {
     "data": {
      "image/png": "[encoded data removed]",
      "text/plain": [
       "<Figure size 432x288 with 1 Axes>"
      ]
     },
     "metadata": {
      "needs_background": "light"
     },
     "output_type": "display_data"
    }
   ],
   "source": [
    "plt.scatter(x_tr, y_tr)\n",
    "plt.plot(x_tr, regr.predict(x_tr), color='red')\n",
    "plt.show()"
   ]
  },
  {
   "cell_type": "code",
   "execution_count": 35,
   "id": "hp7ar29JATNq",
   "metadata": {
    "id": "hp7ar29JATNq"
   },
   "outputs": [],
   "source": [
    "from sklearn import metrics"
   ]
  },
  {
   "cell_type": "code",
   "execution_count": 36,
   "id": "hM7agMfUAaH4",
   "metadata": {
    "colab": {
     "base_uri": "https://localhost:8080/"
    },
    "id": "hM7agMfUAaH4",
    "outputId": "c130c8bd-c9be-4631-b524-060cb7f21089"
   },
   "outputs": [
    {
     "data": {
      "text/plain": [
       "8973.225665651353"
      ]
     },
     "execution_count": 36,
     "metadata": {},
     "output_type": "execute_result"
    }
   ],
   "source": [
    "#MAE\n",
    "metrics.mean_absolute_error(y_te,y_predict)"
   ]
  },
  {
   "cell_type": "code",
   "execution_count": 37,
   "id": "1i6zutxOAwP_",
   "metadata": {
    "colab": {
     "base_uri": "https://localhost:8080/"
    },
    "id": "1i6zutxOAwP_",
    "outputId": "2555d1a1-ff52-4b48-8fc1-d7c4994d06cf"
   },
   "outputs": [
    {
     "data": {
      "text/plain": [
       "131371617.98318517"
      ]
     },
     "execution_count": 37,
     "metadata": {},
     "output_type": "execute_result"
    }
   ],
   "source": [
    "#MSE\n",
    "metrics.mean_squared_error(y_te,y_predict)"
   ]
  },
  {
   "cell_type": "code",
   "execution_count": 38,
   "id": "e8YngD4VAwTg",
   "metadata": {
    "colab": {
     "base_uri": "https://localhost:8080/"
    },
    "id": "e8YngD4VAwTg",
    "outputId": "eb8a3770-e22d-4511-a6fa-c586d011828c"
   },
   "outputs": [
    {
     "data": {
      "text/plain": [
       "11461.745852320455"
      ]
     },
     "execution_count": 38,
     "metadata": {},
     "output_type": "execute_result"
    }
   ],
   "source": [
    "#NMSE\n",
    "np.sqrt(metrics.mean_squared_error(y_te,y_predict))"
   ]
  },
  {
   "cell_type": "code",
   "execution_count": null,
   "id": "khIfQaCitkpM",
   "metadata": {
    "colab": {
     "base_uri": "https://localhost:8080/"
    },
    "id": "khIfQaCitkpM",
    "outputId": "e8a1f2d4-398e-49be-be93-e00ab2808b5c"
   },
   "outputs": [],
   "source": []
  },
  {
   "cell_type": "code",
   "execution_count": 39,
   "id": "c57ee51a",
   "metadata": {},
   "outputs": [
    {
     "data": {
      "text/plain": [
       "0.046753534148817"
      ]
     },
     "execution_count": 39,
     "metadata": {},
     "output_type": "execute_result"
    }
   ],
   "source": [
    "metrics.r2_score(y_te,y_predict)"
   ]
  },
  {
   "cell_type": "code",
   "execution_count": 40,
   "id": "WmiNz-aotkpM",
   "metadata": {
    "colab": {
     "base_uri": "https://localhost:8080/"
    },
    "id": "WmiNz-aotkpM",
    "outputId": "95b164b9-3cb9-4bab-9561-d8a85a7793ea"
   },
   "outputs": [
    {
     "data": {
      "text/plain": [
       "array([[10036.60947232]])"
      ]
     },
     "execution_count": 40,
     "metadata": {},
     "output_type": "execute_result"
    }
   ],
   "source": [
    "regr.predict([[28]]) # charges = 4449.46200 for age = 28"
   ]
  },
  {
   "cell_type": "code",
   "execution_count": 41,
   "id": "07asL1Cb01VO",
   "metadata": {
    "colab": {
     "base_uri": "https://localhost:8080/",
     "height": 443
    },
    "id": "07asL1Cb01VO",
    "outputId": "09d33e2f-7c8e-452e-b659-b54576603b54"
   },
   "outputs": [],
   "source": [
    "#Label encoding and onehot encoding"
   ]
  },
  {
   "cell_type": "code",
   "execution_count": 42,
   "id": "UgO8WlLNtkpN",
   "metadata": {
    "id": "UgO8WlLNtkpN"
   },
   "outputs": [],
   "source": [
    "le = LabelEncoder()\n",
    "dt['sex'] = le.fit_transform(dt['sex'])\n",
    "dt['smoker'] = le.fit_transform(dt['smoker'])"
   ]
  },
  {
   "cell_type": "code",
   "execution_count": 43,
   "id": "ttk0kqDVtkpN",
   "metadata": {
    "id": "ttk0kqDVtkpN"
   },
   "outputs": [],
   "source": [
    "enc = OneHotEncoder(handle_unknown='ignore', sparse=False)\n",
    "arr=enc.fit_transform(dt[['region']])"
   ]
  },
  {
   "cell_type": "code",
   "execution_count": 44,
   "id": "m4Se9ca5w793",
   "metadata": {
    "colab": {
     "base_uri": "https://localhost:8080/"
    },
    "id": "m4Se9ca5w793",
    "outputId": "cf28dcd9-9b17-4ed3-f99e-89adeba4bd59"
   },
   "outputs": [
    {
     "data": {
      "text/plain": [
       "Index(['region_northeast', 'region_northwest', 'region_southeast',\n",
       "       'region_southwest'],\n",
       "      dtype='object')"
      ]
     },
     "execution_count": 44,
     "metadata": {},
     "output_type": "execute_result"
    }
   ],
   "source": [
    "reg=pd.DataFrame(arr, columns=enc.get_feature_names_out(['region']))\n",
    "reg.columns"
   ]
  },
  {
   "cell_type": "code",
   "execution_count": 45,
   "id": "01VthdnhwgmW",
   "metadata": {
    "id": "01VthdnhwgmW"
   },
   "outputs": [],
   "source": [
    "dt=pd.concat([dt,reg],axis=1)\n",
    "#dt.drop(['region'],axis=1,inplace=True)"
   ]
  },
  {
   "cell_type": "code",
   "execution_count": 46,
   "id": "tL8qvD-i047w",
   "metadata": {
    "colab": {
     "base_uri": "https://localhost:8080/"
    },
    "id": "tL8qvD-i047w",
    "outputId": "1fbd7092-1b89-471d-956f-cc0807fa8794"
   },
   "outputs": [
    {
     "data": {
      "text/plain": [
       "Index(['age', 'sex', 'bmi', 'children', 'smoker', 'region', 'charges',\n",
       "       'region_northeast', 'region_northwest', 'region_southeast',\n",
       "       'region_southwest'],\n",
       "      dtype='object')"
      ]
     },
     "execution_count": 46,
     "metadata": {},
     "output_type": "execute_result"
    }
   ],
   "source": [
    "dt.columns"
   ]
  },
  {
   "cell_type": "code",
   "execution_count": 47,
   "id": "_ajEctvrT5VS",
   "metadata": {
    "colab": {
     "base_uri": "https://localhost:8080/",
     "height": 443
    },
    "id": "_ajEctvrT5VS",
    "outputId": "19b2a54c-ee8e-4ca5-f37c-97d4d75dd1a2"
   },
   "outputs": [
    {
     "data": {
      "text/html": [
       "<div>\n",
       "<style scoped>\n",
       "    .dataframe tbody tr th:only-of-type {\n",
       "        vertical-align: middle;\n",
       "    }\n",
       "\n",
       "    .dataframe tbody tr th {\n",
       "        vertical-align: top;\n",
       "    }\n",
       "\n",
       "    .dataframe thead th {\n",
       "        text-align: right;\n",
       "    }\n",
       "</style>\n",
       "<table border=\"1\" class=\"dataframe\">\n",
       "  <thead>\n",
       "    <tr style=\"text-align: right;\">\n",
       "      <th></th>\n",
       "      <th>age</th>\n",
       "      <th>sex</th>\n",
       "      <th>bmi</th>\n",
       "      <th>children</th>\n",
       "      <th>smoker</th>\n",
       "      <th>region</th>\n",
       "      <th>charges</th>\n",
       "      <th>region_northeast</th>\n",
       "      <th>region_northwest</th>\n",
       "      <th>region_southeast</th>\n",
       "      <th>region_southwest</th>\n",
       "    </tr>\n",
       "  </thead>\n",
       "  <tbody>\n",
       "    <tr>\n",
       "      <th>0</th>\n",
       "      <td>19.0</td>\n",
       "      <td>0</td>\n",
       "      <td>27.900</td>\n",
       "      <td>0.0</td>\n",
       "      <td>1</td>\n",
       "      <td>southwest</td>\n",
       "      <td>16884.92400</td>\n",
       "      <td>0.0</td>\n",
       "      <td>0.0</td>\n",
       "      <td>0.0</td>\n",
       "      <td>1.0</td>\n",
       "    </tr>\n",
       "    <tr>\n",
       "      <th>1</th>\n",
       "      <td>18.0</td>\n",
       "      <td>1</td>\n",
       "      <td>33.770</td>\n",
       "      <td>1.0</td>\n",
       "      <td>0</td>\n",
       "      <td>southeast</td>\n",
       "      <td>1725.55230</td>\n",
       "      <td>0.0</td>\n",
       "      <td>0.0</td>\n",
       "      <td>1.0</td>\n",
       "      <td>0.0</td>\n",
       "    </tr>\n",
       "    <tr>\n",
       "      <th>2</th>\n",
       "      <td>28.0</td>\n",
       "      <td>1</td>\n",
       "      <td>33.000</td>\n",
       "      <td>3.0</td>\n",
       "      <td>0</td>\n",
       "      <td>southeast</td>\n",
       "      <td>4449.46200</td>\n",
       "      <td>0.0</td>\n",
       "      <td>0.0</td>\n",
       "      <td>1.0</td>\n",
       "      <td>0.0</td>\n",
       "    </tr>\n",
       "    <tr>\n",
       "      <th>3</th>\n",
       "      <td>33.0</td>\n",
       "      <td>1</td>\n",
       "      <td>22.705</td>\n",
       "      <td>0.0</td>\n",
       "      <td>0</td>\n",
       "      <td>northwest</td>\n",
       "      <td>21984.47061</td>\n",
       "      <td>0.0</td>\n",
       "      <td>1.0</td>\n",
       "      <td>0.0</td>\n",
       "      <td>0.0</td>\n",
       "    </tr>\n",
       "    <tr>\n",
       "      <th>4</th>\n",
       "      <td>32.0</td>\n",
       "      <td>1</td>\n",
       "      <td>28.880</td>\n",
       "      <td>0.0</td>\n",
       "      <td>0</td>\n",
       "      <td>northwest</td>\n",
       "      <td>3866.85520</td>\n",
       "      <td>0.0</td>\n",
       "      <td>1.0</td>\n",
       "      <td>0.0</td>\n",
       "      <td>0.0</td>\n",
       "    </tr>\n",
       "    <tr>\n",
       "      <th>...</th>\n",
       "      <td>...</td>\n",
       "      <td>...</td>\n",
       "      <td>...</td>\n",
       "      <td>...</td>\n",
       "      <td>...</td>\n",
       "      <td>...</td>\n",
       "      <td>...</td>\n",
       "      <td>...</td>\n",
       "      <td>...</td>\n",
       "      <td>...</td>\n",
       "      <td>...</td>\n",
       "    </tr>\n",
       "    <tr>\n",
       "      <th>1333</th>\n",
       "      <td>50.0</td>\n",
       "      <td>1</td>\n",
       "      <td>30.970</td>\n",
       "      <td>3.0</td>\n",
       "      <td>0</td>\n",
       "      <td>northwest</td>\n",
       "      <td>10600.54830</td>\n",
       "      <td>0.0</td>\n",
       "      <td>1.0</td>\n",
       "      <td>0.0</td>\n",
       "      <td>0.0</td>\n",
       "    </tr>\n",
       "    <tr>\n",
       "      <th>1334</th>\n",
       "      <td>18.0</td>\n",
       "      <td>0</td>\n",
       "      <td>31.920</td>\n",
       "      <td>0.0</td>\n",
       "      <td>0</td>\n",
       "      <td>northeast</td>\n",
       "      <td>2205.98080</td>\n",
       "      <td>1.0</td>\n",
       "      <td>0.0</td>\n",
       "      <td>0.0</td>\n",
       "      <td>0.0</td>\n",
       "    </tr>\n",
       "    <tr>\n",
       "      <th>1335</th>\n",
       "      <td>18.0</td>\n",
       "      <td>0</td>\n",
       "      <td>36.850</td>\n",
       "      <td>0.0</td>\n",
       "      <td>0</td>\n",
       "      <td>southeast</td>\n",
       "      <td>1629.83350</td>\n",
       "      <td>0.0</td>\n",
       "      <td>0.0</td>\n",
       "      <td>1.0</td>\n",
       "      <td>0.0</td>\n",
       "    </tr>\n",
       "    <tr>\n",
       "      <th>1336</th>\n",
       "      <td>21.0</td>\n",
       "      <td>0</td>\n",
       "      <td>25.800</td>\n",
       "      <td>0.0</td>\n",
       "      <td>0</td>\n",
       "      <td>southwest</td>\n",
       "      <td>2007.94500</td>\n",
       "      <td>0.0</td>\n",
       "      <td>0.0</td>\n",
       "      <td>0.0</td>\n",
       "      <td>1.0</td>\n",
       "    </tr>\n",
       "    <tr>\n",
       "      <th>1337</th>\n",
       "      <td>61.0</td>\n",
       "      <td>0</td>\n",
       "      <td>29.070</td>\n",
       "      <td>0.0</td>\n",
       "      <td>1</td>\n",
       "      <td>northwest</td>\n",
       "      <td>29141.36030</td>\n",
       "      <td>0.0</td>\n",
       "      <td>1.0</td>\n",
       "      <td>0.0</td>\n",
       "      <td>0.0</td>\n",
       "    </tr>\n",
       "  </tbody>\n",
       "</table>\n",
       "<p>1338 rows × 11 columns</p>\n",
       "</div>"
      ],
      "text/plain": [
       "       age  sex     bmi  children  smoker     region      charges  \\\n",
       "0     19.0    0  27.900       0.0       1  southwest  16884.92400   \n",
       "1     18.0    1  33.770       1.0       0  southeast   1725.55230   \n",
       "2     28.0    1  33.000       3.0       0  southeast   4449.46200   \n",
       "3     33.0    1  22.705       0.0       0  northwest  21984.47061   \n",
       "4     32.0    1  28.880       0.0       0  northwest   3866.85520   \n",
       "...    ...  ...     ...       ...     ...        ...          ...   \n",
       "1333  50.0    1  30.970       3.0       0  northwest  10600.54830   \n",
       "1334  18.0    0  31.920       0.0       0  northeast   2205.98080   \n",
       "1335  18.0    0  36.850       0.0       0  southeast   1629.83350   \n",
       "1336  21.0    0  25.800       0.0       0  southwest   2007.94500   \n",
       "1337  61.0    0  29.070       0.0       1  northwest  29141.36030   \n",
       "\n",
       "      region_northeast  region_northwest  region_southeast  region_southwest  \n",
       "0                  0.0               0.0               0.0               1.0  \n",
       "1                  0.0               0.0               1.0               0.0  \n",
       "2                  0.0               0.0               1.0               0.0  \n",
       "3                  0.0               1.0               0.0               0.0  \n",
       "4                  0.0               1.0               0.0               0.0  \n",
       "...                ...               ...               ...               ...  \n",
       "1333               0.0               1.0               0.0               0.0  \n",
       "1334               1.0               0.0               0.0               0.0  \n",
       "1335               0.0               0.0               1.0               0.0  \n",
       "1336               0.0               0.0               0.0               1.0  \n",
       "1337               0.0               1.0               0.0               0.0  \n",
       "\n",
       "[1338 rows x 11 columns]"
      ]
     },
     "execution_count": 47,
     "metadata": {},
     "output_type": "execute_result"
    }
   ],
   "source": [
    "dt"
   ]
  },
  {
   "cell_type": "code",
   "execution_count": 48,
   "id": "L7NeV9RRtkpS",
   "metadata": {
    "id": "L7NeV9RRtkpS"
   },
   "outputs": [],
   "source": [
    "#Normalization"
   ]
  },
  {
   "cell_type": "code",
   "execution_count": 49,
   "id": "mSILIH2Sk1RN",
   "metadata": {
    "id": "mSILIH2Sk1RN"
   },
   "outputs": [],
   "source": [
    "from sklearn.preprocessing import MinMaxScaler\n",
    "scaler = MinMaxScaler()"
   ]
  },
  {
   "cell_type": "code",
   "execution_count": 50,
   "id": "huPKqsGZ6WZa",
   "metadata": {
    "colab": {
     "base_uri": "https://localhost:8080/",
     "height": 443
    },
    "id": "huPKqsGZ6WZa",
    "outputId": "013e164a-dd31-4d3d-a9f9-4dd76b970fc0"
   },
   "outputs": [
    {
     "data": {
      "text/html": [
       "<div>\n",
       "<style scoped>\n",
       "    .dataframe tbody tr th:only-of-type {\n",
       "        vertical-align: middle;\n",
       "    }\n",
       "\n",
       "    .dataframe tbody tr th {\n",
       "        vertical-align: top;\n",
       "    }\n",
       "\n",
       "    .dataframe thead th {\n",
       "        text-align: right;\n",
       "    }\n",
       "</style>\n",
       "<table border=\"1\" class=\"dataframe\">\n",
       "  <thead>\n",
       "    <tr style=\"text-align: right;\">\n",
       "      <th></th>\n",
       "      <th>age</th>\n",
       "      <th>sex</th>\n",
       "      <th>bmi</th>\n",
       "      <th>children</th>\n",
       "      <th>smoker</th>\n",
       "      <th>region</th>\n",
       "      <th>charges</th>\n",
       "      <th>region_northeast</th>\n",
       "      <th>region_northwest</th>\n",
       "      <th>region_southeast</th>\n",
       "      <th>region_southwest</th>\n",
       "    </tr>\n",
       "  </thead>\n",
       "  <tbody>\n",
       "    <tr>\n",
       "      <th>0</th>\n",
       "      <td>19.0</td>\n",
       "      <td>0</td>\n",
       "      <td>27.900</td>\n",
       "      <td>0.0</td>\n",
       "      <td>1</td>\n",
       "      <td>southwest</td>\n",
       "      <td>16884.92400</td>\n",
       "      <td>0.0</td>\n",
       "      <td>0.0</td>\n",
       "      <td>0.0</td>\n",
       "      <td>1.0</td>\n",
       "    </tr>\n",
       "    <tr>\n",
       "      <th>1</th>\n",
       "      <td>18.0</td>\n",
       "      <td>1</td>\n",
       "      <td>33.770</td>\n",
       "      <td>1.0</td>\n",
       "      <td>0</td>\n",
       "      <td>southeast</td>\n",
       "      <td>1725.55230</td>\n",
       "      <td>0.0</td>\n",
       "      <td>0.0</td>\n",
       "      <td>1.0</td>\n",
       "      <td>0.0</td>\n",
       "    </tr>\n",
       "    <tr>\n",
       "      <th>2</th>\n",
       "      <td>28.0</td>\n",
       "      <td>1</td>\n",
       "      <td>33.000</td>\n",
       "      <td>3.0</td>\n",
       "      <td>0</td>\n",
       "      <td>southeast</td>\n",
       "      <td>4449.46200</td>\n",
       "      <td>0.0</td>\n",
       "      <td>0.0</td>\n",
       "      <td>1.0</td>\n",
       "      <td>0.0</td>\n",
       "    </tr>\n",
       "    <tr>\n",
       "      <th>3</th>\n",
       "      <td>33.0</td>\n",
       "      <td>1</td>\n",
       "      <td>22.705</td>\n",
       "      <td>0.0</td>\n",
       "      <td>0</td>\n",
       "      <td>northwest</td>\n",
       "      <td>21984.47061</td>\n",
       "      <td>0.0</td>\n",
       "      <td>1.0</td>\n",
       "      <td>0.0</td>\n",
       "      <td>0.0</td>\n",
       "    </tr>\n",
       "    <tr>\n",
       "      <th>4</th>\n",
       "      <td>32.0</td>\n",
       "      <td>1</td>\n",
       "      <td>28.880</td>\n",
       "      <td>0.0</td>\n",
       "      <td>0</td>\n",
       "      <td>northwest</td>\n",
       "      <td>3866.85520</td>\n",
       "      <td>0.0</td>\n",
       "      <td>1.0</td>\n",
       "      <td>0.0</td>\n",
       "      <td>0.0</td>\n",
       "    </tr>\n",
       "  </tbody>\n",
       "</table>\n",
       "</div>"
      ],
      "text/plain": [
       "    age  sex     bmi  children  smoker     region      charges  \\\n",
       "0  19.0    0  27.900       0.0       1  southwest  16884.92400   \n",
       "1  18.0    1  33.770       1.0       0  southeast   1725.55230   \n",
       "2  28.0    1  33.000       3.0       0  southeast   4449.46200   \n",
       "3  33.0    1  22.705       0.0       0  northwest  21984.47061   \n",
       "4  32.0    1  28.880       0.0       0  northwest   3866.85520   \n",
       "\n",
       "   region_northeast  region_northwest  region_southeast  region_southwest  \n",
       "0               0.0               0.0               0.0               1.0  \n",
       "1               0.0               0.0               1.0               0.0  \n",
       "2               0.0               0.0               1.0               0.0  \n",
       "3               0.0               1.0               0.0               0.0  \n",
       "4               0.0               1.0               0.0               0.0  "
      ]
     },
     "execution_count": 50,
     "metadata": {},
     "output_type": "execute_result"
    }
   ],
   "source": [
    "dt.head()"
   ]
  },
  {
   "cell_type": "code",
   "execution_count": 51,
   "id": "1yG5lsJXn7h2",
   "metadata": {
    "id": "1yG5lsJXn7h2"
   },
   "outputs": [],
   "source": [
    "A = dt[['age', 'sex', 'bmi', 'children', 'smoker', 'region_northeast', 'region_northwest', 'region_southeast', 'region_southwest']].values\n",
    "B = dt['charges'].values.reshape(-1,1)\n",
    "normA = scaler.fit_transform(A)\n",
    "A_tr, A_te, B_tr, B_te = train_test_split(normA,B, test_size = 0.25)"
   ]
  },
  {
   "cell_type": "code",
   "execution_count": 52,
   "id": "NBkwDxPExeOi",
   "metadata": {
    "id": "NBkwDxPExeOi"
   },
   "outputs": [],
   "source": [
    "normRegr = LinearRegression()\n",
    "normRegr.fit(A_tr, B_tr)\n",
    "B_predict= normRegr.predict(A_te)"
   ]
  },
  {
   "cell_type": "code",
   "execution_count": 53,
   "id": "LLxbsCjKoWAe",
   "metadata": {
    "colab": {
     "base_uri": "https://localhost:8080/"
    },
    "id": "LLxbsCjKoWAe",
    "outputId": "436f5e94-4c18-4e08-b826-ff5e9a02c4ad"
   },
   "outputs": [
    {
     "data": {
      "text/plain": [
       "4209.6468005822735"
      ]
     },
     "execution_count": 53,
     "metadata": {},
     "output_type": "execute_result"
    }
   ],
   "source": [
    "#MAE\n",
    "metrics.mean_absolute_error(B_te,B_predict) \n",
    "# Previous MAE = 8988.072725393851\n",
    "# Current MAE = 3890.271295434944"
   ]
  },
  {
   "cell_type": "code",
   "execution_count": 54,
   "id": "RLsxnI3uoWAe",
   "metadata": {
    "colab": {
     "base_uri": "https://localhost:8080/"
    },
    "id": "RLsxnI3uoWAe",
    "outputId": "3c41e80a-7602-4114-c050-79812fd95c36"
   },
   "outputs": [
    {
     "data": {
      "text/plain": [
       "36631102.26311015"
      ]
     },
     "execution_count": 54,
     "metadata": {},
     "output_type": "execute_result"
    }
   ],
   "source": [
    "#MSE\n",
    "metrics.mean_squared_error(B_te,B_predict)\n",
    "#Previous MSE = 129335384.21735895\n",
    "#32481107.911177725"
   ]
  },
  {
   "cell_type": "code",
   "execution_count": 55,
   "id": "TUSqhtomoWAe",
   "metadata": {
    "colab": {
     "base_uri": "https://localhost:8080/"
    },
    "id": "TUSqhtomoWAe",
    "outputId": "03fbbbd1-2a10-4805-ae2f-ba8238d44754"
   },
   "outputs": [
    {
     "data": {
      "text/plain": [
       "6052.363361787704"
      ]
     },
     "execution_count": 55,
     "metadata": {},
     "output_type": "execute_result"
    }
   ],
   "source": [
    "#NMSE\n",
    "np.sqrt(metrics.mean_squared_error(B_te,B_predict))\n",
    "#Previous NMSE = 11372.571574510268\n",
    "#5699.21993883178"
   ]
  },
  {
   "cell_type": "code",
   "execution_count": 56,
   "id": "4c1732dd",
   "metadata": {},
   "outputs": [
    {
     "data": {
      "text/plain": [
       "0.7668669379764882"
      ]
     },
     "execution_count": 56,
     "metadata": {},
     "output_type": "execute_result"
    }
   ],
   "source": [
    "metrics.r2_score(B_te,B_predict)"
   ]
  },
  {
   "cell_type": "code",
   "execution_count": 57,
   "id": "zw_J4OPB1_7m",
   "metadata": {
    "colab": {
     "base_uri": "https://localhost:8080/"
    },
    "id": "zw_J4OPB1_7m",
    "outputId": "931238d8-7261-4532-cd5c-ae26daf770a3"
   },
   "outputs": [
    {
     "data": {
      "text/plain": [
       "(335, 9)"
      ]
     },
     "execution_count": 57,
     "metadata": {},
     "output_type": "execute_result"
    }
   ],
   "source": [
    "A_te.shape"
   ]
  },
  {
   "cell_type": "code",
   "execution_count": 58,
   "id": "pB_Z5mQ_5Tm0",
   "metadata": {
    "colab": {
     "base_uri": "https://localhost:8080/"
    },
    "id": "pB_Z5mQ_5Tm0",
    "outputId": "4617cb4a-dc27-469f-ef63-0ad585d815af"
   },
   "outputs": [
    {
     "data": {
      "text/plain": [
       "array([[0.82608696, 1.        , 0.26836158, 0.        , 0.        ,\n",
       "        1.        , 0.        , 0.        , 0.        ]])"
      ]
     },
     "execution_count": 58,
     "metadata": {},
     "output_type": "execute_result"
    }
   ],
   "source": [
    "A_te[[4]]"
   ]
  },
  {
   "cell_type": "code",
   "execution_count": 59,
   "id": "_V7aAgu_5Vsd",
   "metadata": {
    "colab": {
     "base_uri": "https://localhost:8080/"
    },
    "id": "_V7aAgu_5Vsd",
    "outputId": "99220226-17f8-43cd-e2cf-2996e4bb30be"
   },
   "outputs": [
    {
     "data": {
      "text/plain": [
       "array([11165.41765])"
      ]
     },
     "execution_count": 59,
     "metadata": {},
     "output_type": "execute_result"
    }
   ],
   "source": [
    "B_te[4]"
   ]
  },
  {
   "cell_type": "code",
   "execution_count": 60,
   "id": "zFd6pF-R2QSY",
   "metadata": {
    "colab": {
     "base_uri": "https://localhost:8080/"
    },
    "id": "zFd6pF-R2QSY",
    "outputId": "a0996cf1-7f3d-4133-c42a-ca8d6ce6a2c5"
   },
   "outputs": [
    {
     "data": {
      "text/plain": [
       "array([[11050.31843758]])"
      ]
     },
     "execution_count": 60,
     "metadata": {},
     "output_type": "execute_result"
    }
   ],
   "source": [
    "normRegr.predict(A_te[[4]])"
   ]
  },
  {
   "cell_type": "code",
   "execution_count": 61,
   "id": "tie9xf8hspLK",
   "metadata": {
    "id": "tie9xf8hspLK"
   },
   "outputs": [],
   "source": [
    "y_predicted=normRegr.predict([[28,0,33,3,0,0,0,1,0]])"
   ]
  },
  {
   "cell_type": "code",
   "execution_count": 62,
   "id": "YRKeqFY3qDGx",
   "metadata": {
    "colab": {
     "base_uri": "https://localhost:8080/"
    },
    "id": "YRKeqFY3qDGx",
    "outputId": "30cde45d-a26a-4120-fee3-b97fcaebf5b0"
   },
   "outputs": [
    {
     "data": {
      "text/plain": [
       "array([[734506.83872157]])"
      ]
     },
     "execution_count": 62,
     "metadata": {},
     "output_type": "execute_result"
    }
   ],
   "source": [
    "y_predicted"
   ]
  },
  {
   "cell_type": "code",
   "execution_count": 66,
   "id": "7adee923",
   "metadata": {},
   "outputs": [
    {
     "data": {
      "text/plain": [
       "const      34.640995\n",
       "charges     0.000345\n",
       "dtype: float64"
      ]
     },
     "execution_count": 66,
     "metadata": {},
     "output_type": "execute_result"
    }
   ],
   "source": [
    "olsY = dt['age']\n",
    "olsX = dt['charges']\n",
    "olsX = sm.add_constant(olsX)\n",
    "model = sm.OLS(olsY,olsX)\n",
    "results = model.fit()\n",
    "results.params"
   ]
  },
  {
   "cell_type": "code",
   "execution_count": null,
   "id": "f61d6b89",
   "metadata": {},
   "outputs": [],
   "source": []
  }
 ],
 "metadata": {
  "colab": {
   "provenance": []
  },
  "kernelspec": {
   "display_name": "Python 3 (ipykernel)",
   "language": "python",
   "name": "python3"
  },
  "language_info": {
   "codemirror_mode": {
    "name": "ipython",
    "version": 3
   },
   "file_extension": ".py",
   "mimetype": "text/x-python",
   "name": "python",
   "nbconvert_exporter": "python",
   "pygments_lexer": "ipython3",
   "version": "3.9.12"
  }
 },
 "nbformat": 4,
 "nbformat_minor": 5
}
